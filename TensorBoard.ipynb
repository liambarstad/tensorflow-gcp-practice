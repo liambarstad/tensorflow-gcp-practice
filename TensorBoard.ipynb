{
 "cells": [
  {
   "cell_type": "code",
   "execution_count": 5,
   "metadata": {},
   "outputs": [
    {
     "name": "stdout",
     "output_type": "stream",
     "text": [
      "Executing query with job ID: 90b5eb13-9a12-4241-ae77-c5ac29d8ddcc\n",
      "Query executing: 0.69s\n",
      "Query complete after 1.03s\n",
      "WARNING:tensorflow:There are non-GPU devices in `tf.distribute.Strategy`, not using nccl allreduce.\n",
      "INFO:tensorflow:Using MirroredStrategy with devices ('/job:localhost/replica:0/task:0/device:CPU:0',)\n"
     ]
    }
   ],
   "source": [
    "%run staging_data.ipynb"
   ]
  },
  {
   "cell_type": "code",
   "execution_count": 7,
   "metadata": {},
   "outputs": [
    {
     "data": {
      "text/plain": [
       "'logs/2020-12-07-011309'"
      ]
     },
     "execution_count": 7,
     "metadata": {},
     "output_type": "execute_result"
    }
   ],
   "source": [
    "import datetime, os\n",
    "log_dir = os.path.join('logs', datetime.datetime.now().strftime('%Y-%m-%d-%H%M%S'))\n",
    "log_dir"
   ]
  },
  {
   "cell_type": "code",
   "execution_count": 8,
   "metadata": {},
   "outputs": [
    {
     "data": {
      "text/plain": [
       "<BatchDataset shapes: ({departure_delay: (None,), distance: (None,), airline: (None,), departure_airport: (None,), arrival_airport: (None,), departure_weekday: (None,), departure_month: (None,)}, (None,)), types: ({departure_delay: tf.float64, distance: tf.float64, airline: tf.string, departure_airport: tf.string, arrival_airport: tf.string, departure_weekday: tf.string, departure_month: tf.string}, tf.int64)>"
      ]
     },
     "execution_count": 8,
     "metadata": {},
     "output_type": "execute_result"
    }
   ],
   "source": [
    "model"
   ]
  },
  {
   "cell_type": "code",
   "execution_count": null,
   "metadata": {},
   "outputs": [],
   "source": [
    "tf.keras.backend.setfloatx('float32')\n",
    "model_normal.fit(train_ds,\n",
    "                 validation_data=test_ds,\n",
    "                 epochs=10,\n",
    "                 callbacks=[tf.keras.callbacks.TensorBoard(log_dir, histogram_freq=1, update_freq='batch')]\n",
    ")"
   ]
  },
  {
   "cell_type": "code",
   "execution_count": null,
   "metadata": {},
   "outputs": [],
   "source": []
  }
 ],
 "metadata": {
  "environment": {
   "name": "tf2-2-3-gpu.2-3.m59",
   "type": "gcloud",
   "uri": "gcr.io/deeplearning-platform-release/tf2-2-3-gpu.2-3:m59"
  },
  "kernelspec": {
   "display_name": "Python 3",
   "language": "python",
   "name": "python3"
  },
  "language_info": {
   "codemirror_mode": {
    "name": "ipython",
    "version": 3
   },
   "file_extension": ".py",
   "mimetype": "text/x-python",
   "name": "python",
   "nbconvert_exporter": "python",
   "pygments_lexer": "ipython3",
   "version": "3.7.8"
  }
 },
 "nbformat": 4,
 "nbformat_minor": 4
}
