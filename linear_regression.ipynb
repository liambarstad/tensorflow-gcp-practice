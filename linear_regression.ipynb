{
 "cells": [
  {
   "cell_type": "code",
   "execution_count": 2,
   "metadata": {},
   "outputs": [],
   "source": [
    "import tensorflow as tf\n",
    "import numpy as np\n",
    "import pandas as pd\n",
    "import matplotlib.pyplot as plt"
   ]
  },
  {
   "cell_type": "code",
   "execution_count": 3,
   "metadata": {},
   "outputs": [
    {
     "name": "stdout",
     "output_type": "stream",
     "text": [
      "2.3.1\n"
     ]
    }
   ],
   "source": [
    "print(tf.__version__)"
   ]
  },
  {
   "cell_type": "code",
   "execution_count": 7,
   "metadata": {},
   "outputs": [
    {
     "name": "stdout",
     "output_type": "stream",
     "text": [
      "Executing query with job ID: f5528b4e-8ca1-421e-a4be-068b95b51052\n",
      "Query executing: 3.61s\n",
      "Query complete after 3.98s\n"
     ]
    }
   ],
   "source": [
    "%%bigquery flights_df --verbose\n",
    "SELECT \n",
    "    date\n",
    "    , airline\n",
    "    , departure_airport\n",
    "    , arrival_airport\n",
    "    , departure_lat\n",
    "    , departure_lon\n",
    "    , arrival_lat\n",
    "    , arrival_lon\n",
    "    , departure_delay\n",
    "    , arrival_delay\n",
    "FROM `bigquery-samples.airline_ontime_data.flights`\n",
    "WHERE departure_airport = 'SFO' AND date >= '2009-01-01' AND date <= '2009-12-31'"
   ]
  },
  {
   "cell_type": "code",
   "execution_count": 8,
   "metadata": {},
   "outputs": [
    {
     "data": {
      "text/plain": [
       "(134990, 10)"
      ]
     },
     "execution_count": 8,
     "metadata": {},
     "output_type": "execute_result"
    }
   ],
   "source": [
    "flights_df.shape"
   ]
  },
  {
   "cell_type": "code",
   "execution_count": 9,
   "metadata": {},
   "outputs": [
    {
     "data": {
      "text/html": [
       "<div>\n",
       "<style scoped>\n",
       "    .dataframe tbody tr th:only-of-type {\n",
       "        vertical-align: middle;\n",
       "    }\n",
       "\n",
       "    .dataframe tbody tr th {\n",
       "        vertical-align: top;\n",
       "    }\n",
       "\n",
       "    .dataframe thead th {\n",
       "        text-align: right;\n",
       "    }\n",
       "</style>\n",
       "<table border=\"1\" class=\"dataframe\">\n",
       "  <thead>\n",
       "    <tr style=\"text-align: right;\">\n",
       "      <th></th>\n",
       "      <th>date</th>\n",
       "      <th>airline</th>\n",
       "      <th>departure_airport</th>\n",
       "      <th>arrival_airport</th>\n",
       "      <th>departure_lat</th>\n",
       "      <th>departure_lon</th>\n",
       "      <th>arrival_lat</th>\n",
       "      <th>arrival_lon</th>\n",
       "      <th>departure_delay</th>\n",
       "      <th>arrival_delay</th>\n",
       "    </tr>\n",
       "  </thead>\n",
       "  <tbody>\n",
       "    <tr>\n",
       "      <th>0</th>\n",
       "      <td>2009-09-29</td>\n",
       "      <td>CO</td>\n",
       "      <td>SFO</td>\n",
       "      <td>EWR</td>\n",
       "      <td>37.61</td>\n",
       "      <td>-122.37</td>\n",
       "      <td>40.69</td>\n",
       "      <td>-74.16</td>\n",
       "      <td>-3.0</td>\n",
       "      <td>-28.0</td>\n",
       "    </tr>\n",
       "    <tr>\n",
       "      <th>1</th>\n",
       "      <td>2009-09-29</td>\n",
       "      <td>CO</td>\n",
       "      <td>SFO</td>\n",
       "      <td>EWR</td>\n",
       "      <td>37.61</td>\n",
       "      <td>-122.37</td>\n",
       "      <td>40.69</td>\n",
       "      <td>-74.16</td>\n",
       "      <td>10.0</td>\n",
       "      <td>-13.0</td>\n",
       "    </tr>\n",
       "    <tr>\n",
       "      <th>2</th>\n",
       "      <td>2009-09-29</td>\n",
       "      <td>CO</td>\n",
       "      <td>SFO</td>\n",
       "      <td>EWR</td>\n",
       "      <td>37.61</td>\n",
       "      <td>-122.37</td>\n",
       "      <td>40.69</td>\n",
       "      <td>-74.16</td>\n",
       "      <td>-5.0</td>\n",
       "      <td>-16.0</td>\n",
       "    </tr>\n",
       "    <tr>\n",
       "      <th>3</th>\n",
       "      <td>2009-09-07</td>\n",
       "      <td>CO</td>\n",
       "      <td>SFO</td>\n",
       "      <td>EWR</td>\n",
       "      <td>37.61</td>\n",
       "      <td>-122.37</td>\n",
       "      <td>40.69</td>\n",
       "      <td>-74.16</td>\n",
       "      <td>6.0</td>\n",
       "      <td>-4.0</td>\n",
       "    </tr>\n",
       "    <tr>\n",
       "      <th>4</th>\n",
       "      <td>2009-09-29</td>\n",
       "      <td>CO</td>\n",
       "      <td>SFO</td>\n",
       "      <td>EWR</td>\n",
       "      <td>37.61</td>\n",
       "      <td>-122.37</td>\n",
       "      <td>40.69</td>\n",
       "      <td>-74.16</td>\n",
       "      <td>-6.0</td>\n",
       "      <td>-16.0</td>\n",
       "    </tr>\n",
       "  </tbody>\n",
       "</table>\n",
       "</div>"
      ],
      "text/plain": [
       "         date airline departure_airport arrival_airport  departure_lat  \\\n",
       "0  2009-09-29      CO               SFO             EWR          37.61   \n",
       "1  2009-09-29      CO               SFO             EWR          37.61   \n",
       "2  2009-09-29      CO               SFO             EWR          37.61   \n",
       "3  2009-09-07      CO               SFO             EWR          37.61   \n",
       "4  2009-09-29      CO               SFO             EWR          37.61   \n",
       "\n",
       "   departure_lon  arrival_lat  arrival_lon  departure_delay  arrival_delay  \n",
       "0        -122.37        40.69       -74.16             -3.0          -28.0  \n",
       "1        -122.37        40.69       -74.16             10.0          -13.0  \n",
       "2        -122.37        40.69       -74.16             -5.0          -16.0  \n",
       "3        -122.37        40.69       -74.16              6.0           -4.0  \n",
       "4        -122.37        40.69       -74.16             -6.0          -16.0  "
      ]
     },
     "execution_count": 9,
     "metadata": {},
     "output_type": "execute_result"
    }
   ],
   "source": [
    "flights_df.head()"
   ]
  },
  {
   "cell_type": "code",
   "execution_count": 10,
   "metadata": {},
   "outputs": [
    {
     "data": {
      "text/plain": [
       "pandas.core.frame.DataFrame"
      ]
     },
     "execution_count": 10,
     "metadata": {},
     "output_type": "execute_result"
    }
   ],
   "source": [
    "type(flights_df)"
   ]
  },
  {
   "cell_type": "code",
   "execution_count": 17,
   "metadata": {},
   "outputs": [],
   "source": [
    "processed_df = (flights_df\n",
    "                 .query('1 <= departure_delay <= 120')\n",
    "                 .dropna()\n",
    "                 .filter(['departure_delay', 'arrival_delay'])\n",
    "                )"
   ]
  },
  {
   "cell_type": "code",
   "execution_count": 18,
   "metadata": {},
   "outputs": [
    {
     "name": "stdout",
     "output_type": "stream",
     "text": [
      "        departure_delay  arrival_delay\n",
      "1                  10.0          -13.0\n",
      "3                   6.0           -4.0\n",
      "9                   3.0           11.0\n",
      "10                  1.0           -4.0\n",
      "11                  1.0           17.0\n",
      "...                 ...            ...\n",
      "134979             33.0           46.0\n",
      "134980              9.0           18.0\n",
      "134981              1.0           10.0\n",
      "134982             52.0           38.0\n",
      "134988              1.0            2.0\n",
      "\n",
      "[47785 rows x 2 columns]\n"
     ]
    }
   ],
   "source": [
    "print(processed_df)"
   ]
  },
  {
   "cell_type": "code",
   "execution_count": 19,
   "metadata": {},
   "outputs": [
    {
     "data": {
      "text/plain": [
       "<AxesSubplot:xlabel='departure_delay', ylabel='arrival_delay'>"
      ]
     },
     "execution_count": 19,
     "metadata": {},
     "output_type": "execute_result"
    },
    {
     "data": {
      "image/png": "[encoded data removed]",
      "text/plain": [
       "<Figure size 432x288 with 1 Axes>"
      ]
     },
     "metadata": {
      "needs_background": "light"
     },
     "output_type": "display_data"
    }
   ],
   "source": [
    "(processed_df\n",
    ".sample(n=100, random_state=123)\n",
    ".plot.scatter('departure_delay', 'arrival_delay'))"
   ]
  },
  {
   "cell_type": "code",
   "execution_count": 21,
   "metadata": {},
   "outputs": [],
   "source": [
    "train_df = processed_df.sample(frac=0.8, random_state=123)\n",
    "# 80% of data in training df\n",
    "test_df = processed_df.drop(train_df.index)\n",
    "# testing df is main df minus the indecies of the training set\n",
    "train_labels = train_df.pop('arrival_delay')\n",
    "test_labels = test_df.pop('arrival_delay')"
   ]
  },
  {
   "cell_type": "code",
   "execution_count": 26,
   "metadata": {},
   "outputs": [],
   "source": [
    "tf.keras.backend.clear_session()\n",
    "\n",
    "model = tf.keras.models.Sequential([\n",
    "    tf.keras.layers.Dense(1, activation='linear', input_shape=[len(train_df.keys())])\n",
    "])\n",
    "# linear regression is actually a single neuron (tensor, matrix) with linear activation\n",
    "\n",
    "model.compile(\n",
    "    optimizer=tf.keras.optimizers.RMSprop(),\n",
    "    loss='mean_squared_error',\n",
    "    metrics=['mean_absolute_error', 'mean_squared_error']\n",
    ")\n",
    "# optimize by mean squared error and root mean squared"
   ]
  },
  {
   "cell_type": "code",
   "execution_count": 27,
   "metadata": {},
   "outputs": [
    {
     "name": "stdout",
     "output_type": "stream",
     "text": [
      "Model: \"sequential\"\n",
      "_________________________________________________________________\n",
      "Layer (type)                 Output Shape              Param #   \n",
      "=================================================================\n",
      "dense (Dense)                (None, 1)                 2         \n",
      "=================================================================\n",
      "Total params: 2\n",
      "Trainable params: 2\n",
      "Non-trainable params: 0\n",
      "_________________________________________________________________\n"
     ]
    }
   ],
   "source": [
    "model.summary()"
   ]
  },
  {
   "cell_type": "code",
   "execution_count": 31,
   "metadata": {},
   "outputs": [
    {
     "data": {
      "text/plain": [
       "[array([[-1.4506736]], dtype=float32), array([0.], dtype=float32)]"
      ]
     },
     "execution_count": 31,
     "metadata": {},
     "output_type": "execute_result"
    }
   ],
   "source": [
    "model.get_weights()\n",
    "# weight should be randomly initialized, bias is set to 0 "
   ]
  },
  {
   "cell_type": "code",
   "execution_count": 33,
   "metadata": {},
   "outputs": [
    {
     "data": {
      "text/plain": [
       "array([[  -7.253368 ],\n",
       "       [ -33.365494 ],\n",
       "       [  -1.4506736],\n",
       "       [  -4.3520207],\n",
       "       [-136.36331  ]], dtype=float32)"
      ]
     },
     "execution_count": 33,
     "metadata": {},
     "output_type": "execute_result"
    }
   ],
   "source": [
    "example_batch = train_df[:5]\n",
    "model.predict(example_batch)\n",
    "# should be able to predict immediately, but will be bad"
   ]
  },
  {
   "cell_type": "code",
   "execution_count": 34,
   "metadata": {},
   "outputs": [
    {
     "name": "stdout",
     "output_type": "stream",
     "text": [
      "Epoch 1/10\n",
      "   1/1195 [..............................] - ETA: 0s - loss: 9569.7188 - mean_absolute_error: 66.3843 - mean_squared_error: 9569.7188WARNING:tensorflow:From /opt/conda/lib/python3.7/site-packages/tensorflow/python/ops/summary_ops_v2.py:1277: stop (from tensorflow.python.eager.profiler) is deprecated and will be removed after 2020-07-01.\n",
      "Instructions for updating:\n",
      "use `tf.profiler.experimental.stop` instead.\n",
      "   2/1195 [..............................] - ETA: 35s - loss: 11419.6719 - mean_absolute_error: 70.8577 - mean_squared_error: 11419.6719WARNING:tensorflow:Callbacks method `on_train_batch_end` is slow compared to the batch time (batch time: 0.0038s vs `on_train_batch_end` time: 0.0545s). Check your callbacks.\n",
      "1195/1195 [==============================] - 2s 2ms/step - loss: 5497.8984 - mean_absolute_error: 49.3670 - mean_squared_error: 5497.8984\n",
      "Epoch 2/10\n",
      "1195/1195 [==============================] - 2s 2ms/step - loss: 1012.2496 - mean_absolute_error: 20.9873 - mean_squared_error: 1012.2496\n",
      "Epoch 3/10\n",
      "1195/1195 [==============================] - 3s 2ms/step - loss: 185.7408 - mean_absolute_error: 10.2621 - mean_squared_error: 185.7408\n",
      "Epoch 4/10\n",
      "1195/1195 [==============================] - 2s 2ms/step - loss: 178.3718 - mean_absolute_error: 9.9750 - mean_squared_error: 178.3718\n",
      "Epoch 5/10\n",
      "1195/1195 [==============================] - 2s 2ms/step - loss: 172.8506 - mean_absolute_error: 9.7430 - mean_squared_error: 172.8506\n",
      "Epoch 6/10\n",
      "1195/1195 [==============================] - 2s 2ms/step - loss: 168.5262 - mean_absolute_error: 9.5558 - mean_squared_error: 168.5262\n",
      "Epoch 7/10\n",
      "1195/1195 [==============================] - 2s 2ms/step - loss: 165.3312 - mean_absolute_error: 9.4128 - mean_squared_error: 165.3312\n",
      "Epoch 8/10\n",
      "1195/1195 [==============================] - 2s 2ms/step - loss: 162.9816 - mean_absolute_error: 9.3054 - mean_squared_error: 162.9816\n",
      "Epoch 9/10\n",
      "1195/1195 [==============================] - 2s 2ms/step - loss: 161.4080 - mean_absolute_error: 9.2301 - mean_squared_error: 161.4080\n",
      "Epoch 10/10\n",
      "1195/1195 [==============================] - 2s 2ms/step - loss: 160.3905 - mean_absolute_error: 9.1762 - mean_squared_error: 160.3905\n"
     ]
    }
   ],
   "source": [
    "trained_data = model.fit(train_df, train_labels,\n",
    "                        epochs=10,\n",
    "                        callbacks=[tf.keras.callbacks.TensorBoard('logs/simple-regression')])"
   ]
  },
  {
   "cell_type": "code",
   "execution_count": 35,
   "metadata": {},
   "outputs": [
    {
     "data": {
      "text/plain": [
       "[array([[0.96859664]], dtype=float32), array([-3.8965764], dtype=float32)]"
      ]
     },
     "execution_count": 35,
     "metadata": {},
     "output_type": "execute_result"
    }
   ],
   "source": [
    "model.get_weights()"
   ]
  },
  {
   "cell_type": "code",
   "execution_count": 38,
   "metadata": {},
   "outputs": [
    {
     "data": {
      "text/html": [
       "<div>\n",
       "<style scoped>\n",
       "    .dataframe tbody tr th:only-of-type {\n",
       "        vertical-align: middle;\n",
       "    }\n",
       "\n",
       "    .dataframe tbody tr th {\n",
       "        vertical-align: top;\n",
       "    }\n",
       "\n",
       "    .dataframe thead th {\n",
       "        text-align: right;\n",
       "    }\n",
       "</style>\n",
       "<table border=\"1\" class=\"dataframe\">\n",
       "  <thead>\n",
       "    <tr style=\"text-align: right;\">\n",
       "      <th></th>\n",
       "      <th>Predicted</th>\n",
       "      <th>Actual</th>\n",
       "    </tr>\n",
       "  </thead>\n",
       "  <tbody>\n",
       "    <tr>\n",
       "      <th>1</th>\n",
       "      <td>5.789390</td>\n",
       "      <td>-13.0</td>\n",
       "    </tr>\n",
       "    <tr>\n",
       "      <th>11</th>\n",
       "      <td>-2.927980</td>\n",
       "      <td>17.0</td>\n",
       "    </tr>\n",
       "    <tr>\n",
       "      <th>48</th>\n",
       "      <td>0.946407</td>\n",
       "      <td>14.0</td>\n",
       "    </tr>\n",
       "    <tr>\n",
       "      <th>58</th>\n",
       "      <td>-2.927980</td>\n",
       "      <td>-22.0</td>\n",
       "    </tr>\n",
       "    <tr>\n",
       "      <th>81</th>\n",
       "      <td>36.784481</td>\n",
       "      <td>49.0</td>\n",
       "    </tr>\n",
       "  </tbody>\n",
       "</table>\n",
       "</div>"
      ],
      "text/plain": [
       "    Predicted  Actual\n",
       "1    5.789390   -13.0\n",
       "11  -2.927980    17.0\n",
       "48   0.946407    14.0\n",
       "58  -2.927980   -22.0\n",
       "81  36.784481    49.0"
      ]
     },
     "execution_count": 38,
     "metadata": {},
     "output_type": "execute_result"
    }
   ],
   "source": [
    "# y = 0.97x - 3.90\n",
    "# mean absolute error converges around 9\n",
    "test_predictions = model.predict(test_df).flatten()\n",
    "# flattening concatenates multi-dimensional matrix into 1D (or ND)\n",
    "results_df = pd.DataFrame({ 'Predicted': test_predictions, 'Actual': test_labels })\n",
    "results_df.head(5)"
   ]
  },
  {
   "cell_type": "code",
   "execution_count": 40,
   "metadata": {},
   "outputs": [
    {
     "data": {
      "text/plain": [
       "<AxesSubplot:xlabel='Actual', ylabel='Predicted'>"
      ]
     },
     "execution_count": 40,
     "metadata": {},
     "output_type": "execute_result"
    },
    {
     "data": {
      "image/png": "[encoded data removed]",
      "text/plain": [
       "<Figure size 432x288 with 1 Axes>"
      ]
     },
     "metadata": {
      "needs_background": "light"
     },
     "output_type": "display_data"
    }
   ],
   "source": [
    "(results_df.sample(n=200, random_state=123).plot.scatter('Actual', 'Predicted'))"
   ]
  },
  {
   "cell_type": "code",
   "execution_count": 41,
   "metadata": {},
   "outputs": [
    {
     "data": {
      "image/png": "[encoded data removed]",
      "text/plain": [
       "<Figure size 432x288 with 1 Axes>"
      ]
     },
     "metadata": {
      "needs_background": "light"
     },
     "output_type": "display_data"
    }
   ],
   "source": [
    "error = test_predictions - test_labels\n",
    "plt.hist(error, bins=25)\n",
    "plt.xlabel('Prediction Error [Departure Delay]')\n",
    "_ = plt.ylabel('Count')"
   ]
  },
  {
   "cell_type": "code",
   "execution_count": 42,
   "metadata": {},
   "outputs": [
    {
     "data": {
      "text/plain": [
       "9.190879370623133"
      ]
     },
     "execution_count": 42,
     "metadata": {},
     "output_type": "execute_result"
    }
   ],
   "source": [
    "# model may be too optimistic when the the flight departs early (negative value)\n",
    "test_MAE = abs(error).mean()\n",
    "test_MAE"
   ]
  },
  {
   "cell_type": "code",
   "execution_count": 44,
   "metadata": {},
   "outputs": [],
   "source": [
    "# off by about 9 minutes, kinda bad, may need more FEATURES"
   ]
  },
  {
   "cell_type": "code",
   "execution_count": 45,
   "metadata": {},
   "outputs": [
    {
     "name": "stdout",
     "output_type": "stream",
     "text": [
      "Collecting geopy\n",
      "  Downloading geopy-2.0.0-py3-none-any.whl (111 kB)\n",
      "\u001b[K     |████████████████████████████████| 111 kB 9.2 MB/s eta 0:00:01\n",
      "\u001b[?25hCollecting geographiclib<2,>=1.49\n",
      "  Downloading geographiclib-1.50-py3-none-any.whl (38 kB)\n",
      "Installing collected packages: geographiclib, geopy\n",
      "Successfully installed geographiclib-1.50 geopy-2.0.0\n",
      "Note: you may need to restart the kernel to use updated packages.\n"
     ]
    }
   ],
   "source": [
    "pip install geopy"
   ]
  },
  {
   "cell_type": "code",
   "execution_count": 46,
   "metadata": {},
   "outputs": [],
   "source": [
    "import geopy.distance\n",
    "coords_1 = (38.94, -77.46)\n",
    "coords_2 = (40.77, -73.87)"
   ]
  },
  {
   "cell_type": "code",
   "execution_count": 48,
   "metadata": {},
   "outputs": [
    {
     "data": {
      "text/plain": [
       "368.27546093077206"
      ]
     },
     "execution_count": 48,
     "metadata": {},
     "output_type": "execute_result"
    }
   ],
   "source": [
    "geopy.distance.distance(coords_1, coords_2).km"
   ]
  },
  {
   "cell_type": "code",
   "execution_count": 68,
   "metadata": {},
   "outputs": [],
   "source": [
    "# create distance function, because lat/lng don't mean much by themselves\n",
    "# preprocessing speeds up convergence\n",
    "def coords_to_distance(row):\n",
    "    coords_start = (row['departure_lat'], row['departure_lon'])\n",
    "    coords_end = (row['arrival_lat'], row['arrival_lon'])\n",
    "    distance = geopy.distance.distance(coords_start, coords_end).km\n",
    "    return(distance)\n",
    "\n",
    "# creates new key for departure/arrival airport, since distances should be the same for each pair\n",
    "def get_route_key(row):\n",
    "    return row['departure_airport'] + row['arrival_airport']\n",
    "\n",
    "# get relevant columns, drop duplicates, and create route key\n",
    "distances_df = (flights_df[['departure_airport', 'arrival_airport', 'departure_lat', 'departure_lon', 'arrival_lat', 'arrival_lon']]\n",
    "                .drop_duplicates()\n",
    "                .assign(route_key=get_route_key))\n",
    "\n",
    "# apply distance function to df, and grab distance and route key\n",
    "distances_df['distance'] = distances_df.apply(coords_to_distance, axis=1)\n",
    "distances_df = distances_df[['route_key', 'distance']]\n",
    "\n",
    "# remove outliers, get route key, merge with distances, return correct columns\n",
    "flights_processed_df = (flights_df\n",
    "                        .query('1 <= departure_delay <= 120')\n",
    "                        .assign(route_key=get_route_key)\n",
    "                        .merge(distances_df)\n",
    "                        .dropna()\n",
    "                        .filter(['departure_delay', 'arrival_delay', 'distance']))"
   ]
  },
  {
   "cell_type": "code",
   "execution_count": 70,
   "metadata": {},
   "outputs": [
    {
     "data": {
      "text/html": [
       "<div>\n",
       "<style scoped>\n",
       "    .dataframe tbody tr th:only-of-type {\n",
       "        vertical-align: middle;\n",
       "    }\n",
       "\n",
       "    .dataframe tbody tr th {\n",
       "        vertical-align: top;\n",
       "    }\n",
       "\n",
       "    .dataframe thead th {\n",
       "        text-align: right;\n",
       "    }\n",
       "</style>\n",
       "<table border=\"1\" class=\"dataframe\">\n",
       "  <thead>\n",
       "    <tr style=\"text-align: right;\">\n",
       "      <th></th>\n",
       "      <th>departure_delay</th>\n",
       "      <th>arrival_delay</th>\n",
       "      <th>distance</th>\n",
       "    </tr>\n",
       "  </thead>\n",
       "  <tbody>\n",
       "    <tr>\n",
       "      <th>0</th>\n",
       "      <td>10.0</td>\n",
       "      <td>-13.0</td>\n",
       "      <td>4129.108477</td>\n",
       "    </tr>\n",
       "    <tr>\n",
       "      <th>1</th>\n",
       "      <td>6.0</td>\n",
       "      <td>-4.0</td>\n",
       "      <td>4129.108477</td>\n",
       "    </tr>\n",
       "    <tr>\n",
       "      <th>2</th>\n",
       "      <td>3.0</td>\n",
       "      <td>11.0</td>\n",
       "      <td>4129.108477</td>\n",
       "    </tr>\n",
       "    <tr>\n",
       "      <th>3</th>\n",
       "      <td>1.0</td>\n",
       "      <td>-4.0</td>\n",
       "      <td>4129.108477</td>\n",
       "    </tr>\n",
       "    <tr>\n",
       "      <th>4</th>\n",
       "      <td>1.0</td>\n",
       "      <td>17.0</td>\n",
       "      <td>4129.108477</td>\n",
       "    </tr>\n",
       "  </tbody>\n",
       "</table>\n",
       "</div>"
      ],
      "text/plain": [
       "   departure_delay  arrival_delay     distance\n",
       "0             10.0          -13.0  4129.108477\n",
       "1              6.0           -4.0  4129.108477\n",
       "2              3.0           11.0  4129.108477\n",
       "3              1.0           -4.0  4129.108477\n",
       "4              1.0           17.0  4129.108477"
      ]
     },
     "execution_count": 70,
     "metadata": {},
     "output_type": "execute_result"
    }
   ],
   "source": [
    "# this is multiple linear regression (multiple input variables)\n",
    "flights_processed_df.head()"
   ]
  },
  {
   "cell_type": "code",
   "execution_count": null,
   "metadata": {},
   "outputs": [],
   "source": []
  }
 ],
 "metadata": {
  "environment": {
   "name": "tf2-2-3-gpu.2-3.m59",
   "type": "gcloud",
   "uri": "gcr.io/deeplearning-platform-release/tf2-2-3-gpu.2-3:m59"
  },
  "kernelspec": {
   "display_name": "Python 3",
   "language": "python",
   "name": "python3"
  },
  "language_info": {
   "codemirror_mode": {
    "name": "ipython",
    "version": 3
   },
   "file_extension": ".py",
   "mimetype": "text/x-python",
   "name": "python",
   "nbconvert_exporter": "python",
   "pygments_lexer": "ipython3",
   "version": "3.7.8"
  }
 },
 "nbformat": 4,
 "nbformat_minor": 4
}
